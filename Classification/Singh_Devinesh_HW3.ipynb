{
 "cells": [
  {
   "cell_type": "code",
   "execution_count": 1,
   "metadata": {},
   "outputs": [],
   "source": [
    "# Libraries\n",
    "import numpy as np\n",
    "import matplotlib.pyplot as plt\n",
    "import pandas as pd\n",
    "import statsmodels.api as sm\n",
    "from math import sqrt\n",
    "from scipy import stats\n",
    "from sklearn.impute import SimpleImputer\n",
    "from sklearn.compose import ColumnTransformer\n",
    "from sklearn.metrics import mean_squared_error\n",
    "from sklearn.preprocessing import OneHotEncoder\n",
    "from sklearn.preprocessing import LabelEncoder\n",
    "from sklearn.model_selection import train_test_split\n",
    "from sklearn.linear_model import LinearRegression\n",
    "from sklearn.tree import DecisionTreeRegressor\n",
    "from sklearn.ensemble import RandomForestRegressor\n",
    "from sklearn.neighbors import KNeighborsClassifier\n",
    "from sklearn.metrics import confusion_matrix, accuracy_score\n",
    "from sklearn.preprocessing import StandardScaler\n",
    "from sklearn.svm import SVC\n",
    "from sklearn.naive_bayes import GaussianNB\n",
    "from sklearn.linear_model import LogisticRegression\n",
    "from sklearn.metrics import classification_report, confusion_matrix"
   ]
  },
  {
   "cell_type": "code",
   "execution_count": 2,
   "metadata": {},
   "outputs": [],
   "source": [
    "# read the house data spreadsheet\n",
    "dataset = pd.read_csv('titanic.csv')"
   ]
  },
  {
   "cell_type": "code",
   "execution_count": 3,
   "metadata": {},
   "outputs": [],
   "source": [
    "# impute missing values (y)\n",
    "imputer = SimpleImputer(missing_values = np.nan, strategy = 'mean')\n",
    "imputer.fit(dataset[['Age']])\n",
    "dataset['Age'] = imputer.transform(dataset[['Age']]).ravel()"
   ]
  },
  {
   "cell_type": "code",
   "execution_count": 4,
   "metadata": {},
   "outputs": [],
   "source": [
    "# convert binary categorical data (waterfront, renovated)\n",
    "le = LabelEncoder()\n",
    "dataset['Sex'] = le.fit_transform(dataset['Sex'])"
   ]
  },
  {
   "cell_type": "code",
   "execution_count": 5,
   "metadata": {},
   "outputs": [],
   "source": [
    "# split the dataset into features and the prediction\n",
    "data = dataset.iloc[:,].values\n",
    "X = dataset.iloc[:,2:7].values\n",
    "y = dataset.iloc[:,7].values"
   ]
  },
  {
   "cell_type": "code",
   "execution_count": 6,
   "metadata": {},
   "outputs": [],
   "source": [
    "# split the sqft_living into test and train data\n",
    "X_train, X_test, y_train, y_test = train_test_split(X,y,test_size = 0.25, random_state = 0)"
   ]
  },
  {
   "cell_type": "code",
   "execution_count": 7,
   "metadata": {},
   "outputs": [],
   "source": [
    "# feature scaling (if necessary)\n",
    "#sc = StandardScaler()\n",
    "#X_train = sc.fit_transform(X_train)\n",
    "#X_test = sc.transform(X_test)"
   ]
  },
  {
   "cell_type": "code",
   "execution_count": 8,
   "metadata": {},
   "outputs": [
    {
     "data": {
      "text/plain": [
       "LogisticRegression(random_state=0, solver='liblinear')"
      ]
     },
     "execution_count": 8,
     "metadata": {},
     "output_type": "execute_result"
    }
   ],
   "source": [
    "# Logistical Regression\n",
    "model = LogisticRegression(solver='liblinear', random_state=0)\n",
    "model.fit(X_train, y_train)"
   ]
  },
  {
   "cell_type": "code",
   "execution_count": 9,
   "metadata": {},
   "outputs": [
    {
     "data": {
      "text/plain": [
       "0.7847533632286996"
      ]
     },
     "execution_count": 9,
     "metadata": {},
     "output_type": "execute_result"
    }
   ],
   "source": [
    "accuracy = model.score(X_test,y_test)\n",
    "accuracy"
   ]
  },
  {
   "cell_type": "code",
   "execution_count": 10,
   "metadata": {},
   "outputs": [
    {
     "name": "stdout",
     "output_type": "stream",
     "text": [
      "[0]\n",
      "[0]\n",
      "[0]\n",
      "[1]\n",
      "[0]\n",
      "[0]\n",
      "[0]\n",
      "[0]\n",
      "[1]\n",
      "[1]\n",
      "[1]\n",
      "[1]\n",
      "[1]\n",
      "[0]\n",
      "[1]\n",
      "[1]\n"
     ]
    }
   ],
   "source": [
    "\n",
    "# logistical regression predictons\n",
    "k_predict1 = model.predict([[1, 4, 0, 0, 3]])\n",
    "print(k_predict1)\n",
    "k_predict2 = model.predict([[1, 4, 4, 0, 3]])\n",
    "print(k_predict2)\n",
    "k_predict3 = model.predict([[1, 4, 0, 5, 3]])\n",
    "print(k_predict3)\n",
    "k_predict4 = model.predict([[1, 4, 0, 0, 1]])\n",
    "print(k_predict4)\n",
    "k_predict5 = model.predict([[1, 40, 0, 0, 3]])\n",
    "print(k_predict5)\n",
    "k_predict6 = model.predict([[1, 40, 4, 0, 3]])\n",
    "print(k_predict6)\n",
    "k_predict7 = model.predict([[1, 40, 0, 5, 3]])\n",
    "print(k_predict7)\n",
    "k_predict8 = model.predict([[1, 40, 0, 0, 1]])\n",
    "print(k_predict8)\n",
    "k_predict9 = model.predict([[0, 4, 0, 0, 3]])\n",
    "print(k_predict9)\n",
    "k_predict10 = model.predict([[0, 4, 4, 0, 3]])\n",
    "print(k_predict10)\n",
    "k_predict11 = model.predict([[0, 4, 0, 5, 3]])\n",
    "print(k_predict11)\n",
    "k_predict12 = model.predict([[0, 4, 0, 0, 1]])\n",
    "print(k_predict12)\n",
    "k_predict13 = model.predict([[0, 40, 0, 0, 3]])\n",
    "print(k_predict13)\n",
    "k_predict14 = model.predict([[0, 40, 4, 0, 3]])\n",
    "print(k_predict14)\n",
    "k_predict15 = model.predict([[0, 40, 0, 5, 3]])\n",
    "print(k_predict15)\n",
    "k_predict16 = model.predict([[0, 40, 0, 0, 1]])\n",
    "print(k_predict16)"
   ]
  },
  {
   "cell_type": "code",
   "execution_count": 11,
   "metadata": {},
   "outputs": [
    {
     "data": {
      "text/plain": [
       "KNeighborsClassifier(n_neighbors=7)"
      ]
     },
     "execution_count": 11,
     "metadata": {},
     "output_type": "execute_result"
    }
   ],
   "source": [
    "# k-nearest neighbors\n",
    "classifier = KNeighborsClassifier(n_neighbors = 7, metric = 'minkowski', p = 2)\n",
    "classifier.fit(X_train, y_train)"
   ]
  },
  {
   "cell_type": "code",
   "execution_count": 12,
   "metadata": {
    "scrolled": false
   },
   "outputs": [
    {
     "name": "stdout",
     "output_type": "stream",
     "text": [
      "[[0 0]\n",
      " [0 0]\n",
      " [0 0]\n",
      " [1 1]\n",
      " [0 1]\n",
      " [0 1]\n",
      " [1 1]\n",
      " [1 1]\n",
      " [0 1]\n",
      " [1 1]\n",
      " [0 0]\n",
      " [0 1]\n",
      " [0 0]\n",
      " [1 1]\n",
      " [1 1]\n",
      " [1 0]\n",
      " [0 0]\n",
      " [0 0]\n",
      " [0 0]\n",
      " [1 1]\n",
      " [0 0]\n",
      " [1 1]\n",
      " [0 0]\n",
      " [0 0]\n",
      " [1 0]\n",
      " [1 1]\n",
      " [1 0]\n",
      " [1 1]\n",
      " [0 1]\n",
      " [0 0]\n",
      " [0 0]\n",
      " [1 1]\n",
      " [0 0]\n",
      " [0 1]\n",
      " [0 0]\n",
      " [1 1]\n",
      " [0 0]\n",
      " [0 0]\n",
      " [0 0]\n",
      " [0 0]\n",
      " [0 1]\n",
      " [0 0]\n",
      " [0 0]\n",
      " [0 0]\n",
      " [1 1]\n",
      " [0 0]\n",
      " [0 0]\n",
      " [1 1]\n",
      " [0 0]\n",
      " [1 0]\n",
      " [0 1]\n",
      " [0 1]\n",
      " [1 1]\n",
      " [0 0]\n",
      " [0 1]\n",
      " [0 0]\n",
      " [0 0]\n",
      " [0 0]\n",
      " [0 0]\n",
      " [0 1]\n",
      " [0 0]\n",
      " [0 0]\n",
      " [0 1]\n",
      " [0 0]\n",
      " [1 1]\n",
      " [1 0]\n",
      " [1 1]\n",
      " [0 0]\n",
      " [1 1]\n",
      " [1 1]\n",
      " [0 1]\n",
      " [1 1]\n",
      " [1 0]\n",
      " [0 0]\n",
      " [0 0]\n",
      " [0 1]\n",
      " [1 0]\n",
      " [0 0]\n",
      " [0 0]\n",
      " [0 0]\n",
      " [0 0]\n",
      " [0 1]\n",
      " [0 0]\n",
      " [0 0]\n",
      " [0 0]\n",
      " [0 1]\n",
      " [1 1]\n",
      " [0 1]\n",
      " [1 1]\n",
      " [0 0]\n",
      " [0 0]\n",
      " [0 0]\n",
      " [1 1]\n",
      " [1 1]\n",
      " [0 0]\n",
      " [0 0]\n",
      " [0 1]\n",
      " [0 0]\n",
      " [0 0]\n",
      " [0 1]\n",
      " [0 0]\n",
      " [0 0]\n",
      " [0 0]\n",
      " [0 0]\n",
      " [1 0]\n",
      " [0 1]\n",
      " [1 1]\n",
      " [0 0]\n",
      " [0 0]\n",
      " [1 1]\n",
      " [0 0]\n",
      " [1 1]\n",
      " [1 1]\n",
      " [1 0]\n",
      " [1 1]\n",
      " [1 1]\n",
      " [0 1]\n",
      " [1 1]\n",
      " [0 0]\n",
      " [1 1]\n",
      " [0 1]\n",
      " [0 0]\n",
      " [0 0]\n",
      " [0 0]\n",
      " [0 0]\n",
      " [0 0]\n",
      " [0 0]\n",
      " [0 1]\n",
      " [0 0]\n",
      " [0 0]\n",
      " [0 0]\n",
      " [0 0]\n",
      " [0 0]\n",
      " [1 0]\n",
      " [0 0]\n",
      " [0 0]\n",
      " [0 0]\n",
      " [0 0]\n",
      " [0 0]\n",
      " [0 0]\n",
      " [0 0]\n",
      " [1 1]\n",
      " [0 0]\n",
      " [0 0]\n",
      " [1 1]\n",
      " [0 0]\n",
      " [0 0]\n",
      " [1 1]\n",
      " [1 1]\n",
      " [0 0]\n",
      " [0 0]\n",
      " [1 1]\n",
      " [0 0]\n",
      " [0 0]\n",
      " [0 1]\n",
      " [0 0]\n",
      " [0 0]\n",
      " [0 1]\n",
      " [1 0]\n",
      " [1 1]\n",
      " [0 0]\n",
      " [0 1]\n",
      " [0 1]\n",
      " [0 1]\n",
      " [0 0]\n",
      " [0 0]\n",
      " [0 0]\n",
      " [0 0]\n",
      " [0 0]\n",
      " [0 0]\n",
      " [0 0]\n",
      " [1 1]\n",
      " [0 0]\n",
      " [0 0]\n",
      " [1 1]\n",
      " [0 0]\n",
      " [1 1]\n",
      " [0 0]\n",
      " [0 0]\n",
      " [0 0]\n",
      " [0 0]\n",
      " [1 0]\n",
      " [0 0]\n",
      " [0 0]\n",
      " [0 0]\n",
      " [0 0]\n",
      " [1 1]\n",
      " [0 0]\n",
      " [0 0]\n",
      " [0 1]\n",
      " [0 0]\n",
      " [1 0]\n",
      " [1 1]\n",
      " [1 1]\n",
      " [0 0]\n",
      " [0 0]\n",
      " [0 0]\n",
      " [1 1]\n",
      " [1 1]\n",
      " [0 0]\n",
      " [0 1]\n",
      " [1 0]\n",
      " [0 0]\n",
      " [1 1]\n",
      " [0 1]\n",
      " [0 0]\n",
      " [1 0]\n",
      " [1 0]\n",
      " [0 1]\n",
      " [0 0]\n",
      " [0 0]\n",
      " [0 1]\n",
      " [0 0]\n",
      " [0 0]\n",
      " [0 0]\n",
      " [0 0]\n",
      " [0 0]\n",
      " [1 1]\n",
      " [0 0]\n",
      " [1 1]\n",
      " [0 0]\n",
      " [1 1]\n",
      " [1 1]]\n"
     ]
    }
   ],
   "source": [
    "# predict k-nearest neighbors\n",
    "k_predict = classifier.predict(X_test)\n",
    "print(np.concatenate((k_predict.reshape(len(k_predict),1), y_test.reshape(len(y_test),1)),1))"
   ]
  },
  {
   "cell_type": "code",
   "execution_count": 13,
   "metadata": {},
   "outputs": [
    {
     "name": "stdout",
     "output_type": "stream",
     "text": [
      "[[123  16]\n",
      " [ 33  51]]\n"
     ]
    }
   ],
   "source": [
    "# confusion matrix\n",
    "cm = confusion_matrix(y_test, k_predict)\n",
    "print(cm)"
   ]
  },
  {
   "cell_type": "code",
   "execution_count": 14,
   "metadata": {},
   "outputs": [
    {
     "data": {
      "text/plain": [
       "0.7802690582959642"
      ]
     },
     "execution_count": 14,
     "metadata": {},
     "output_type": "execute_result"
    }
   ],
   "source": [
    "# accuracy score\n",
    "accuracy_score(y_test, k_predict)"
   ]
  },
  {
   "cell_type": "code",
   "execution_count": 15,
   "metadata": {},
   "outputs": [
    {
     "name": "stdout",
     "output_type": "stream",
     "text": [
      "[1]\n",
      "[0]\n",
      "[1]\n",
      "[1]\n",
      "[0]\n",
      "[0]\n",
      "[0]\n",
      "[0]\n",
      "[1]\n",
      "[0]\n",
      "[1]\n",
      "[1]\n",
      "[0]\n",
      "[0]\n",
      "[0]\n",
      "[1]\n"
     ]
    }
   ],
   "source": [
    "# k-nearest neighbor predictons\n",
    "k_predict1 = classifier.predict([[1, 4, 0, 0, 3]])\n",
    "print(k_predict1)\n",
    "k_predict2 = classifier.predict([[1, 4, 4, 0, 3]])\n",
    "print(k_predict2)\n",
    "k_predict3 = classifier.predict([[1, 4, 0, 5, 3]])\n",
    "print(k_predict3)\n",
    "k_predict4 = classifier.predict([[1, 4, 0, 0, 1]])\n",
    "print(k_predict4)\n",
    "k_predict5 = classifier.predict([[1, 40, 0, 0, 3]])\n",
    "print(k_predict5)\n",
    "k_predict6 = classifier.predict([[1, 40, 4, 0, 3]])\n",
    "print(k_predict6)\n",
    "k_predict7 = classifier.predict([[1, 40, 0, 5, 3]])\n",
    "print(k_predict7)\n",
    "k_predict8 = classifier.predict([[1, 40, 0, 0, 1]])\n",
    "print(k_predict8)\n",
    "k_predict9 = classifier.predict([[0, 4, 0, 0, 3]])\n",
    "print(k_predict9)\n",
    "k_predict10 = classifier.predict([[0, 4, 4, 0, 3]])\n",
    "print(k_predict10)\n",
    "k_predict11 = classifier.predict([[0, 4, 0, 5, 3]])\n",
    "print(k_predict11)\n",
    "k_predict12 = classifier.predict([[0, 4, 0, 0, 1]])\n",
    "print(k_predict12)\n",
    "k_predict13 = classifier.predict([[0, 40, 0, 0, 3]])\n",
    "print(k_predict13)\n",
    "k_predict14 = classifier.predict([[0, 40, 4, 0, 3]])\n",
    "print(k_predict14)\n",
    "k_predict15 = classifier.predict([[0, 40, 0, 5, 3]])\n",
    "print(k_predict15)\n",
    "k_predict16 = classifier.predict([[0, 40, 0, 0, 1]])\n",
    "print(k_predict16)"
   ]
  },
  {
   "cell_type": "markdown",
   "metadata": {},
   "source": []
  },
  {
   "cell_type": "code",
   "execution_count": 16,
   "metadata": {},
   "outputs": [],
   "source": [
    "# support vector machines\n",
    "classifier = SVC(kernel = 'linear', random_state = 0)\n",
    "classifier.fit(X_train, y_train)\n",
    "svm_predict = classifier.predict(X_test)"
   ]
  },
  {
   "cell_type": "code",
   "execution_count": 17,
   "metadata": {},
   "outputs": [
    {
     "data": {
      "text/plain": [
       "array([[115,  24],\n",
       "       [ 25,  59]])"
      ]
     },
     "execution_count": 17,
     "metadata": {},
     "output_type": "execute_result"
    }
   ],
   "source": [
    "# confusion matrix\n",
    "cm = confusion_matrix(y_test, svm_predict)\n",
    "cm"
   ]
  },
  {
   "cell_type": "code",
   "execution_count": 18,
   "metadata": {},
   "outputs": [
    {
     "data": {
      "text/plain": [
       "0.7802690582959642"
      ]
     },
     "execution_count": 18,
     "metadata": {},
     "output_type": "execute_result"
    }
   ],
   "source": [
    "accuracy_score(y_test, svm_predict)"
   ]
  },
  {
   "cell_type": "code",
   "execution_count": 20,
   "metadata": {},
   "outputs": [
    {
     "name": "stdout",
     "output_type": "stream",
     "text": [
      "[0]\n",
      "[0]\n",
      "[0]\n",
      "[0]\n",
      "[0]\n",
      "[0]\n",
      "[0]\n",
      "[0]\n",
      "[1]\n",
      "[1]\n",
      "[1]\n",
      "[1]\n",
      "[1]\n",
      "[1]\n",
      "[1]\n",
      "[1]\n"
     ]
    }
   ],
   "source": [
    "# support vector machine predictions \n",
    "svm_predict1 = classifier.predict([[1, 4, 0, 0, 3]])\n",
    "print(svm_predict1)\n",
    "svm_predict2 = classifier.predict([[1, 4, 4, 0, 3]])\n",
    "print(svm_predict2)\n",
    "svm_predict3 = classifier.predict([[1, 4, 0, 5, 3]])\n",
    "print(svm_predict3)\n",
    "svm_predict4 = classifier.predict([[1, 4, 0, 0, 1]])\n",
    "print(svm_predict4)\n",
    "svm_predict5 = classifier.predict([[1, 40, 0, 0, 3]])\n",
    "print(svm_predict5)\n",
    "svm_predict6 = classifier.predict([[1, 40, 4, 0, 3]])\n",
    "print(svm_predict6)\n",
    "svm_predict7 = classifier.predict([[1, 40, 0, 5, 3]])\n",
    "print(svm_predict7)\n",
    "svm_predict8 = classifier.predict([[1, 40, 0, 0, 1]])\n",
    "print(svm_predict8)\n",
    "svm_predict9 = classifier.predict([[0, 4, 0, 0, 3]])\n",
    "print(svm_predict9)\n",
    "svm_predict10 = classifier.predict([[0, 4, 4, 0, 3]])\n",
    "print(svm_predict10)\n",
    "svm_predict11 = classifier.predict([[0, 4, 0, 5, 3]])\n",
    "print(svm_predict11)\n",
    "svm_predict12 = classifier.predict([[0, 4, 0, 0, 1]])\n",
    "print(svm_predict12)\n",
    "svm_predict13 = classifier.predict([[0, 40, 0, 0, 3]])\n",
    "print(svm_predict13)\n",
    "svm_predict14 = classifier.predict([[0, 40, 4, 0, 3]])\n",
    "print(svm_predict14)\n",
    "svm_predict15 = classifier.predict([[0, 40, 0, 5, 3]])\n",
    "print(svm_predict15)\n",
    "svm_predict16 = classifier.predict([[0, 40, 0, 0, 1]])\n",
    "print(svm_predict16)"
   ]
  },
  {
   "cell_type": "code",
   "execution_count": 21,
   "metadata": {},
   "outputs": [
    {
     "data": {
      "text/plain": [
       "SVC(random_state=0)"
      ]
     },
     "execution_count": 21,
     "metadata": {},
     "output_type": "execute_result"
    }
   ],
   "source": [
    "# kernel svm \n",
    "classifier = SVC(kernel = 'rbf', random_state = 0)\n",
    "classifier.fit(X_train, y_train)"
   ]
  },
  {
   "cell_type": "code",
   "execution_count": 22,
   "metadata": {},
   "outputs": [
    {
     "name": "stdout",
     "output_type": "stream",
     "text": [
      "[[0 0]\n",
      " [0 0]\n",
      " [0 0]\n",
      " [0 1]\n",
      " [0 1]\n",
      " [0 1]\n",
      " [0 1]\n",
      " [0 1]\n",
      " [0 1]\n",
      " [0 1]\n",
      " [0 0]\n",
      " [0 1]\n",
      " [0 0]\n",
      " [1 1]\n",
      " [0 1]\n",
      " [0 0]\n",
      " [0 0]\n",
      " [0 0]\n",
      " [0 0]\n",
      " [1 1]\n",
      " [0 0]\n",
      " [0 1]\n",
      " [0 0]\n",
      " [0 0]\n",
      " [0 0]\n",
      " [0 1]\n",
      " [0 0]\n",
      " [0 1]\n",
      " [0 1]\n",
      " [1 0]\n",
      " [0 0]\n",
      " [0 1]\n",
      " [0 0]\n",
      " [0 1]\n",
      " [0 0]\n",
      " [0 1]\n",
      " [0 0]\n",
      " [0 0]\n",
      " [0 0]\n",
      " [0 0]\n",
      " [0 1]\n",
      " [0 0]\n",
      " [0 0]\n",
      " [0 0]\n",
      " [0 1]\n",
      " [0 0]\n",
      " [0 0]\n",
      " [0 1]\n",
      " [0 0]\n",
      " [0 0]\n",
      " [0 1]\n",
      " [0 1]\n",
      " [1 1]\n",
      " [0 0]\n",
      " [0 1]\n",
      " [0 0]\n",
      " [0 0]\n",
      " [0 0]\n",
      " [0 0]\n",
      " [0 1]\n",
      " [0 0]\n",
      " [0 0]\n",
      " [0 1]\n",
      " [0 0]\n",
      " [0 1]\n",
      " [0 0]\n",
      " [0 1]\n",
      " [0 0]\n",
      " [1 1]\n",
      " [0 1]\n",
      " [0 1]\n",
      " [0 1]\n",
      " [0 0]\n",
      " [0 0]\n",
      " [0 0]\n",
      " [0 1]\n",
      " [0 0]\n",
      " [0 0]\n",
      " [0 0]\n",
      " [0 0]\n",
      " [0 0]\n",
      " [0 1]\n",
      " [0 0]\n",
      " [0 0]\n",
      " [0 0]\n",
      " [0 1]\n",
      " [0 1]\n",
      " [0 1]\n",
      " [0 1]\n",
      " [0 0]\n",
      " [0 0]\n",
      " [0 0]\n",
      " [1 1]\n",
      " [0 1]\n",
      " [0 0]\n",
      " [0 0]\n",
      " [0 1]\n",
      " [0 0]\n",
      " [0 0]\n",
      " [0 1]\n",
      " [0 0]\n",
      " [0 0]\n",
      " [0 0]\n",
      " [0 0]\n",
      " [0 0]\n",
      " [0 1]\n",
      " [0 1]\n",
      " [0 0]\n",
      " [0 0]\n",
      " [0 1]\n",
      " [0 0]\n",
      " [0 1]\n",
      " [0 1]\n",
      " [0 0]\n",
      " [0 1]\n",
      " [0 1]\n",
      " [0 1]\n",
      " [0 1]\n",
      " [0 0]\n",
      " [0 1]\n",
      " [0 1]\n",
      " [0 0]\n",
      " [0 0]\n",
      " [0 0]\n",
      " [0 0]\n",
      " [0 0]\n",
      " [0 0]\n",
      " [0 1]\n",
      " [0 0]\n",
      " [0 0]\n",
      " [0 0]\n",
      " [0 0]\n",
      " [0 0]\n",
      " [0 0]\n",
      " [0 0]\n",
      " [0 0]\n",
      " [0 0]\n",
      " [0 0]\n",
      " [0 0]\n",
      " [0 0]\n",
      " [0 0]\n",
      " [0 1]\n",
      " [0 0]\n",
      " [0 0]\n",
      " [0 1]\n",
      " [0 0]\n",
      " [0 0]\n",
      " [0 1]\n",
      " [0 1]\n",
      " [0 0]\n",
      " [0 0]\n",
      " [0 1]\n",
      " [0 0]\n",
      " [0 0]\n",
      " [0 1]\n",
      " [0 0]\n",
      " [0 0]\n",
      " [0 1]\n",
      " [0 0]\n",
      " [1 1]\n",
      " [0 0]\n",
      " [0 1]\n",
      " [0 1]\n",
      " [0 1]\n",
      " [0 0]\n",
      " [0 0]\n",
      " [0 0]\n",
      " [0 0]\n",
      " [0 0]\n",
      " [0 0]\n",
      " [0 0]\n",
      " [0 1]\n",
      " [0 0]\n",
      " [0 0]\n",
      " [0 1]\n",
      " [0 0]\n",
      " [0 1]\n",
      " [0 0]\n",
      " [0 0]\n",
      " [0 0]\n",
      " [0 0]\n",
      " [0 0]\n",
      " [0 0]\n",
      " [0 0]\n",
      " [0 0]\n",
      " [0 0]\n",
      " [0 1]\n",
      " [0 0]\n",
      " [0 0]\n",
      " [0 1]\n",
      " [0 0]\n",
      " [0 0]\n",
      " [0 1]\n",
      " [0 1]\n",
      " [0 0]\n",
      " [0 0]\n",
      " [0 0]\n",
      " [1 1]\n",
      " [0 1]\n",
      " [0 0]\n",
      " [0 1]\n",
      " [0 0]\n",
      " [0 0]\n",
      " [0 1]\n",
      " [0 1]\n",
      " [0 0]\n",
      " [0 0]\n",
      " [0 0]\n",
      " [0 1]\n",
      " [0 0]\n",
      " [0 0]\n",
      " [0 1]\n",
      " [0 0]\n",
      " [0 0]\n",
      " [0 0]\n",
      " [0 0]\n",
      " [0 0]\n",
      " [1 1]\n",
      " [0 0]\n",
      " [0 1]\n",
      " [0 0]\n",
      " [0 1]\n",
      " [1 1]]\n"
     ]
    }
   ],
   "source": [
    "ksvm_predict = classifier.predict(X_test)\n",
    "print(np.concatenate((ksvm_predict.reshape(len(ksvm_predict),1), y_test.reshape(len(y_test),1)),1))"
   ]
  },
  {
   "cell_type": "code",
   "execution_count": 23,
   "metadata": {},
   "outputs": [
    {
     "data": {
      "text/plain": [
       "array([[138,   1],\n",
       "       [ 75,   9]])"
      ]
     },
     "execution_count": 23,
     "metadata": {},
     "output_type": "execute_result"
    }
   ],
   "source": [
    "# confusion matrix\n",
    "cm = confusion_matrix(y_test, ksvm_predict)\n",
    "cm"
   ]
  },
  {
   "cell_type": "code",
   "execution_count": 24,
   "metadata": {},
   "outputs": [
    {
     "data": {
      "text/plain": [
       "0.6591928251121076"
      ]
     },
     "execution_count": 24,
     "metadata": {},
     "output_type": "execute_result"
    }
   ],
   "source": [
    "accuracy_score(y_test, ksvm_predict)"
   ]
  },
  {
   "cell_type": "code",
   "execution_count": 25,
   "metadata": {},
   "outputs": [
    {
     "name": "stdout",
     "output_type": "stream",
     "text": [
      "[1]\n",
      "[1]\n",
      "[1]\n",
      "[1]\n",
      "[0]\n",
      "[0]\n",
      "[0]\n",
      "[0]\n",
      "[1]\n",
      "[1]\n",
      "[1]\n",
      "[1]\n",
      "[0]\n",
      "[0]\n",
      "[0]\n",
      "[0]\n"
     ]
    }
   ],
   "source": [
    "# kernel svm predictons\n",
    "ksvm_predict1 = classifier.predict([[1, 4, 0, 0, 3]])\n",
    "print(ksvm_predict1)\n",
    "ksvm_predict2 = classifier.predict([[1, 4, 4, 0, 3]])\n",
    "print(ksvm_predict2)\n",
    "ksvm_predict3 = classifier.predict([[1, 4, 0, 5, 3]])\n",
    "print(ksvm_predict3)\n",
    "ksvm_predict4 = classifier.predict([[1, 4, 0, 0, 1]])\n",
    "print(ksvm_predict4)\n",
    "ksvm_predict5 = classifier.predict([[1, 40, 0, 0, 3]])\n",
    "print(ksvm_predict5)\n",
    "ksvm_predict6 = classifier.predict([[1, 40, 4, 0, 3]])\n",
    "print(ksvm_predict6)\n",
    "ksvm_predict7 = classifier.predict([[1, 40, 0, 5, 3]])\n",
    "print(ksvm_predict7)\n",
    "ksvm_predict8 = classifier.predict([[1, 40, 0, 0, 1]])\n",
    "print(ksvm_predict8)\n",
    "ksvm_predict9 = classifier.predict([[0, 4, 0, 0, 3]])\n",
    "print(ksvm_predict9)\n",
    "ksvm_predict10 = classifier.predict([[0, 4, 4, 0, 3]])\n",
    "print(ksvm_predict10)\n",
    "ksvm_predict11 = classifier.predict([[0, 4, 0, 5, 3]])\n",
    "print(ksvm_predict11)\n",
    "ksvm_predict12 = classifier.predict([[0, 4, 0, 0, 1]])\n",
    "print(ksvm_predict12)\n",
    "ksvm_predict13 = classifier.predict([[0, 40, 0, 0, 3]])\n",
    "print(ksvm_predict13)\n",
    "ksvm_predict14 = classifier.predict([[0, 40, 4, 0, 3]])\n",
    "print(ksvm_predict14)\n",
    "ksvm_predict15 = classifier.predict([[0, 40, 0, 5, 3]])\n",
    "print(ksvm_predict15)\n",
    "ksvm_predict16 = classifier.predict([[0, 40, 0, 0, 1]])\n",
    "print(ksvm_predict16)"
   ]
  },
  {
   "cell_type": "code",
   "execution_count": 26,
   "metadata": {},
   "outputs": [
    {
     "data": {
      "text/plain": [
       "GaussianNB()"
      ]
     },
     "execution_count": 26,
     "metadata": {},
     "output_type": "execute_result"
    }
   ],
   "source": [
    "# naive bayes\n",
    "classifier = GaussianNB()\n",
    "classifier.fit(X_train, y_train)"
   ]
  },
  {
   "cell_type": "code",
   "execution_count": 27,
   "metadata": {},
   "outputs": [],
   "source": [
    "nb_predict = classifier.predict(X_test)"
   ]
  },
  {
   "cell_type": "code",
   "execution_count": 28,
   "metadata": {},
   "outputs": [
    {
     "name": "stdout",
     "output_type": "stream",
     "text": [
      "[[111  28]\n",
      " [ 22  62]]\n"
     ]
    }
   ],
   "source": [
    "# confusion matrix\n",
    "cm = confusion_matrix(y_test, nb_predict)\n",
    "print(cm)"
   ]
  },
  {
   "cell_type": "code",
   "execution_count": 29,
   "metadata": {},
   "outputs": [
    {
     "data": {
      "text/plain": [
       "0.7757847533632287"
      ]
     },
     "execution_count": 29,
     "metadata": {},
     "output_type": "execute_result"
    }
   ],
   "source": [
    "# accuracy score\n",
    "accuracy_score(y_test, nb_predict)"
   ]
  },
  {
   "cell_type": "code",
   "execution_count": 30,
   "metadata": {},
   "outputs": [
    {
     "name": "stdout",
     "output_type": "stream",
     "text": [
      "[0]\n",
      "[0]\n",
      "[0]\n",
      "[1]\n",
      "[0]\n",
      "[0]\n",
      "[0]\n",
      "[0]\n",
      "[1]\n",
      "[0]\n",
      "[1]\n",
      "[1]\n",
      "[1]\n",
      "[0]\n",
      "[1]\n",
      "[1]\n"
     ]
    }
   ],
   "source": [
    "# kernel svm predictons\n",
    "ksvm_predict1 = classifier.predict([[1, 4, 0, 0, 3]])\n",
    "print(ksvm_predict1)\n",
    "ksvm_predict2 = classifier.predict([[1, 4, 4, 0, 3]])\n",
    "print(ksvm_predict2)\n",
    "ksvm_predict3 = classifier.predict([[1, 4, 0, 5, 3]])\n",
    "print(ksvm_predict3)\n",
    "ksvm_predict4 = classifier.predict([[1, 4, 0, 0, 1]])\n",
    "print(ksvm_predict4)\n",
    "ksvm_predict5 = classifier.predict([[1, 40, 0, 0, 3]])\n",
    "print(ksvm_predict5)\n",
    "ksvm_predict6 = classifier.predict([[1, 40, 4, 0, 3]])\n",
    "print(ksvm_predict6)\n",
    "ksvm_predict7 = classifier.predict([[1, 40, 0, 5, 3]])\n",
    "print(ksvm_predict7)\n",
    "ksvm_predict8 = classifier.predict([[1, 40, 0, 0, 1]])\n",
    "print(ksvm_predict8)\n",
    "ksvm_predict9 = classifier.predict([[0, 4, 0, 0, 3]])\n",
    "print(ksvm_predict9)\n",
    "ksvm_predict10 = classifier.predict([[0, 4, 4, 0, 3]])\n",
    "print(ksvm_predict10)\n",
    "ksvm_predict11 = classifier.predict([[0, 4, 0, 5, 3]])\n",
    "print(ksvm_predict11)\n",
    "ksvm_predict12 = classifier.predict([[0, 4, 0, 0, 1]])\n",
    "print(ksvm_predict12)\n",
    "ksvm_predict13 = classifier.predict([[0, 40, 0, 0, 3]])\n",
    "print(ksvm_predict13)\n",
    "ksvm_predict14 = classifier.predict([[0, 40, 4, 0, 3]])\n",
    "print(ksvm_predict14)\n",
    "ksvm_predict15 = classifier.predict([[0, 40, 0, 5, 3]])\n",
    "print(ksvm_predict15)\n",
    "ksvm_predict16 = classifier.predict([[0, 40, 0, 0, 1]])\n",
    "print(ksvm_predict16)"
   ]
  },
  {
   "cell_type": "code",
   "execution_count": 30,
   "metadata": {},
   "outputs": [
    {
     "data": {
      "text/plain": [
       "DecisionTreeRegressor(random_state=0)"
      ]
     },
     "execution_count": 30,
     "metadata": {},
     "output_type": "execute_result"
    }
   ],
   "source": [
    "# decision tree\n",
    "decisionregressor = DecisionTreeRegressor(random_state = 0)\n",
    "decisionregressor.fit(X,y)"
   ]
  },
  {
   "cell_type": "code",
   "execution_count": 31,
   "metadata": {},
   "outputs": [],
   "source": [
    "dt_predict = classifier.predict(X_test)"
   ]
  },
  {
   "cell_type": "code",
   "execution_count": 32,
   "metadata": {},
   "outputs": [
    {
     "data": {
      "text/plain": [
       "0.7757847533632287"
      ]
     },
     "execution_count": 32,
     "metadata": {},
     "output_type": "execute_result"
    }
   ],
   "source": [
    "# accuracy score\n",
    "accuracy_score(y_test, dt_predict)"
   ]
  },
  {
   "cell_type": "code",
   "execution_count": 33,
   "metadata": {},
   "outputs": [
    {
     "name": "stdout",
     "output_type": "stream",
     "text": [
      "[[111  28]\n",
      " [ 22  62]]\n"
     ]
    }
   ],
   "source": [
    "# confusion matrix\n",
    "cm = confusion_matrix(y_test, dt_predict)\n",
    "print(cm)"
   ]
  },
  {
   "cell_type": "code",
   "execution_count": 34,
   "metadata": {},
   "outputs": [
    {
     "name": "stdout",
     "output_type": "stream",
     "text": [
      "[1.]\n",
      "[0.]\n",
      "[1.]\n",
      "[1.]\n",
      "[0.]\n",
      "[0.]\n",
      "[0.]\n",
      "[0.33333333]\n",
      "[1.]\n",
      "[1.]\n",
      "[1.]\n",
      "[1.]\n",
      "[0.]\n",
      "[1.]\n",
      "[0.]\n",
      "[1.]\n"
     ]
    }
   ],
   "source": [
    "d1 = decisionregressor.predict([[1, 4, 0, 0, 3]])\n",
    "print(d1)\n",
    "d2 = decisionregressor.predict([[1, 4, 4, 0, 3]])\n",
    "print(d2)\n",
    "d3 = decisionregressor.predict([[1, 4, 0, 5, 3]])\n",
    "print(d3)\n",
    "d4 = decisionregressor.predict([[1, 4, 0, 0, 1]])\n",
    "print(d4)\n",
    "d5 = decisionregressor.predict([[1, 40, 0, 0, 3]])\n",
    "print(d5)\n",
    "d6 = decisionregressor.predict([[1, 40, 4, 0, 3]])\n",
    "print(d6)\n",
    "d7 = decisionregressor.predict([[1, 40, 0, 5, 3]])\n",
    "print(d7)\n",
    "d8 = decisionregressor.predict([[1, 40, 0, 0, 1]])\n",
    "print(d8)\n",
    "d9 = decisionregressor.predict([[0, 4, 0, 0, 3]])\n",
    "print(d9)\n",
    "d10 = decisionregressor.predict([[0, 4, 4, 0, 3]])\n",
    "print(d10)\n",
    "d11 = decisionregressor.predict([[0, 4, 0, 5, 3]])\n",
    "print(d11)\n",
    "d12 = decisionregressor.predict([[0, 4, 0, 1, 1]])\n",
    "print(d12)\n",
    "d13 = decisionregressor.predict([[0, 40, 0, 0, 3]])\n",
    "print(d13)\n",
    "d14 = decisionregressor.predict([[0, 40, 4, 0, 3]])\n",
    "print(d14)\n",
    "d15 = decisionregressor.predict([[0, 40, 0, 5, 3]])\n",
    "print(d15)\n",
    "d16 = decisionregressor.predict([[0, 40, 0, 1, 1]])\n",
    "print(d16)"
   ]
  },
  {
   "cell_type": "code",
   "execution_count": 35,
   "metadata": {},
   "outputs": [
    {
     "data": {
      "text/plain": [
       "0.7757847533632287"
      ]
     },
     "execution_count": 35,
     "metadata": {},
     "output_type": "execute_result"
    }
   ],
   "source": [
    "accuracy_score(y_test, dt_predict)"
   ]
  },
  {
   "cell_type": "code",
   "execution_count": 36,
   "metadata": {},
   "outputs": [
    {
     "data": {
      "text/plain": [
       "RandomForestRegressor(n_estimators=10, random_state=0)"
      ]
     },
     "execution_count": 36,
     "metadata": {},
     "output_type": "execute_result"
    }
   ],
   "source": [
    "# Random Forest Regression\n",
    "forestregressor = RandomForestRegressor(n_estimators = 10, random_state = 0)\n",
    "forestregressor.fit(X,y)"
   ]
  },
  {
   "cell_type": "code",
   "execution_count": 37,
   "metadata": {},
   "outputs": [],
   "source": [
    "rf_predict = classifier.predict(X_test)"
   ]
  },
  {
   "cell_type": "code",
   "execution_count": 38,
   "metadata": {},
   "outputs": [
    {
     "data": {
      "text/plain": [
       "0.7757847533632287"
      ]
     },
     "execution_count": 38,
     "metadata": {},
     "output_type": "execute_result"
    }
   ],
   "source": [
    "# accuracy score\n",
    "accuracy_score(y_test, rf_predict)"
   ]
  },
  {
   "cell_type": "code",
   "execution_count": 39,
   "metadata": {},
   "outputs": [
    {
     "name": "stdout",
     "output_type": "stream",
     "text": [
      "[0.9]\n",
      "[0.]\n",
      "[1.]\n",
      "[0.9]\n",
      "[0.]\n",
      "[0.]\n",
      "[0.]\n",
      "[0.22666667]\n",
      "[0.95]\n",
      "[0.4]\n",
      "[0.7]\n",
      "[1.]\n",
      "[0.]\n",
      "[0.2]\n",
      "[0.]\n",
      "[1.]\n"
     ]
    }
   ],
   "source": [
    "d1 = forestregressor.predict([[1, 4, 0, 0, 3]])\n",
    "print(d1)\n",
    "d2 = forestregressor.predict([[1, 4, 4, 0, 3]])\n",
    "print(d2)\n",
    "d3 = forestregressor.predict([[1, 4, 0, 5, 3]])\n",
    "print(d3)\n",
    "d4 = forestregressor.predict([[1, 4, 0, 0, 1]])\n",
    "print(d4)\n",
    "d5 = forestregressor.predict([[1, 40, 0, 0, 3]])\n",
    "print(d5)\n",
    "d6 = forestregressor.predict([[1, 40, 4, 0, 3]])\n",
    "print(d6)\n",
    "d7 = forestregressor.predict([[1, 40, 0, 5, 3]])\n",
    "print(d7)\n",
    "d8 = forestregressor.predict([[1, 40, 0, 0, 1]])\n",
    "print(d8)\n",
    "d9 = forestregressor.predict([[0, 4, 0, 0, 3]])\n",
    "print(d9)\n",
    "d10 = forestregressor.predict([[0, 4, 4, 0, 3]])\n",
    "print(d10)\n",
    "d11 = forestregressor.predict([[0, 4, 0, 5, 3]])\n",
    "print(d11)\n",
    "d12 = forestregressor.predict([[0, 4, 0, 1, 1]])\n",
    "print(d12)\n",
    "d13 = forestregressor.predict([[0, 40, 0, 0, 3]])\n",
    "print(d13)\n",
    "d14 = forestregressor.predict([[0, 40, 4, 0, 3]])\n",
    "print(d14)\n",
    "d15 = forestregressor.predict([[0, 40, 0, 5, 3]])\n",
    "print(d15)\n",
    "d16 = forestregressor.predict([[0, 40, 0, 1, 1]])\n",
    "print(d16)"
   ]
  },
  {
   "cell_type": "code",
   "execution_count": null,
   "metadata": {},
   "outputs": [],
   "source": []
  },
  {
   "cell_type": "code",
   "execution_count": null,
   "metadata": {},
   "outputs": [],
   "source": []
  },
  {
   "cell_type": "code",
   "execution_count": null,
   "metadata": {},
   "outputs": [],
   "source": []
  },
  {
   "cell_type": "code",
   "execution_count": null,
   "metadata": {},
   "outputs": [],
   "source": []
  }
 ],
 "metadata": {
  "kernelspec": {
   "display_name": "Python 3",
   "language": "python",
   "name": "python3"
  },
  "language_info": {
   "codemirror_mode": {
    "name": "ipython",
    "version": 3
   },
   "file_extension": ".py",
   "mimetype": "text/x-python",
   "name": "python",
   "nbconvert_exporter": "python",
   "pygments_lexer": "ipython3",
   "version": "3.8.5"
  }
 },
 "nbformat": 4,
 "nbformat_minor": 4
}
